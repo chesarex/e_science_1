{
 "metadata": {
  "name": "",
  "signature": "sha256:f4492b4f5fa293cfa9db146e81abc008057d31407dac41ac017d72720bde3399"
 },
 "nbformat": 3,
 "nbformat_minor": 0,
 "worksheets": [
  {
   "cells": [
    {
     "cell_type": "heading",
     "level": 1,
     "metadata": {},
     "source": [
      "Pr\u00e1tica 3"
     ]
    },
    {
     "cell_type": "heading",
     "level": 6,
     "metadata": {},
     "source": [
      "Estudante: Cesar Augusto H. C."
     ]
    },
    {
     "cell_type": "raw",
     "metadata": {},
     "source": [
      "Esta  pratica  consiste em  realizar  uma vers\u00e3o funcional  da pratica 2. al\u00e9m de isso  cosisite na  cria\u00e7\u00e3o de um execut\u00e1vel"
     ]
    },
    {
     "cell_type": "markdown",
     "metadata": {},
     "source": [
      "O primeira que  fazemos e importar  todos  os pacotes  que  vamos a precissar"
     ]
    },
    {
     "cell_type": "code",
     "collapsed": false,
     "input": [
      "%matplotlib inline\n",
      "from astropy.io import fits\n",
      "import matplotlib\n",
      "import matplotlib.pyplot as plt\n",
      "import numpy as np\n",
      "from astropy.wcs import WCS"
     ],
     "language": "python",
     "metadata": {},
     "outputs": []
    },
    {
     "cell_type": "raw",
     "metadata": {},
     "source": [
      "O programa ira solicitar o nome do arquivo .fits. tem que digitar o nome entre aspas"
     ]
    },
    {
     "cell_type": "code",
     "collapsed": false,
     "input": [
      "%matplotlib inline\n",
      "name_spec = input('Name spectra (name.fits): ')"
     ],
     "language": "python",
     "metadata": {},
     "outputs": []
    },
    {
     "cell_type": "code",
     "collapsed": false,
     "input": [
      "hdulist_2 = fits.open(name_spec)\n",
      "origin_spec = pyfits.open(name_spec)\n",
      "\n",
      "#======================\n",
      "print('=========spectrum available=========')\n",
      "print(origin_spec.info())"
     ],
     "language": "python",
     "metadata": {},
     "outputs": []
    },
    {
     "cell_type": "code",
     "collapsed": false,
     "input": [
      "origin_spec[0].header[0:11]\n",
      "#print origin_spec[0].header['NAXIS']\n",
      "fig3, ax3 = plt.subplots(1, 1, figsize=(12,10))\n",
      "plt.xlabel('Wavelength (A)')\n",
      "plt.ylabel('Flux')\n",
      "def pix2ang(hdu, ax):\n",
      "    wcs = WCS(hdu.header)\n",
      "    index = np.arange(hdu.header['NAXIS1'])\n",
      "    angs = wcs.wcs_pix2world(index[:,np.newaxis], 0)\n",
      "    angs = angs.flatten()\n",
      "    ax.plot(angs, hdu.data)\n",
      "\n",
      "print('*********************************')\n"
     ],
     "language": "python",
     "metadata": {},
     "outputs": []
    },
    {
     "cell_type": "markdown",
     "metadata": {},
     "source": [
      "Nesta parte do programa ir\u00e1 perguntar se voc\u00ea deseja plotar apenas um espectro ou todos"
     ]
    },
    {
     "cell_type": "code",
     "collapsed": false,
     "input": [
      "NN1 = raw_input('Do you want plot all the spectra? [yes/no]: ')   \n",
      "if NN1 == 'yes':\n",
      "   for i in np.array(xrange(13))+2:\n",
      "    pix2ang(hdulist_2[i],ax3)\n",
      "else:\t\n",
      "   NN2 = input('Number of spectrum: ')\n",
      "   pix2ang(hdulist_2[NN2],ax3)\n",
      "fig3.savefig('example3.png')\n",
      "plt.show()"
     ],
     "language": "python",
     "metadata": {},
     "outputs": []
    },
    {
     "cell_type": "raw",
     "metadata": {},
     "source": [
      "Agora, finalmente  vamos a criar um execut\u00e1vel, para isso temos que  digitar  #!/usr/bin/python na  primeira fila do  progrma, e depo\u00eds digitamos  na terminal chmod 777 ejemploPython.py,  e j\u00e1 podemos executar o programa  digitando ./ejemploPython.py"
     ]
    }
   ],
   "metadata": {}
  }
 ]
}
