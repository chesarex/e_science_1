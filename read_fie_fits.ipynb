{
 "metadata": {
  "name": "",
  "signature": "sha256:1e5e6d83203d0aca489e73e552792810ae791328a1d4b7abc594a561f0a36f53"
 },
 "nbformat": 3,
 "nbformat_minor": 0,
 "worksheets": [
  {
   "cells": [
    {
     "cell_type": "heading",
     "level": 1,
     "metadata": {},
     "source": [
      "T\u00f3picos de e-Science"
     ]
    },
    {
     "cell_type": "markdown",
     "metadata": {},
     "source": [
      "Estudante: Cesar Augusto H. Condori"
     ]
    },
    {
     "cell_type": "heading",
     "level": 6,
     "metadata": {},
     "source": [
      "Este  trabalho consiste  em o processamento de dois aquivos com estens\u00e3o .FITS. O contendo de  estos dois aquivos  1.fits e 2.fits  \u00e9  desconhecido.\n",
      "Sendo assim o primeiro passo consiste  em ver o  conteudo de estos dois  arquivos."
     ]
    },
    {
     "cell_type": "heading",
     "level": 6,
     "metadata": {},
     "source": [
      "IMPORTAR ARQUIVOS 1.fits E 2.fits"
     ]
    },
    {
     "cell_type": "markdown",
     "metadata": {},
     "source": [
      "'Importamos todos os pacotes necesario'"
     ]
    },
    {
     "cell_type": "code",
     "collapsed": false,
     "input": [
      "%matplotlib inline\n",
      "import pyfits\n",
      "from astropy.io import fits\n",
      "import matplotlib\n",
      "import matplotlib.pyplot as plt\n",
      "import numpy as np\n",
      "\n",
      "#aquivo de entrada\n",
      "hdulist_1 = pyfits.open('1.fits')\n",
      "hdulist_1.info()\n"
     ],
     "language": "python",
     "metadata": {},
     "outputs": []
    },
    {
     "cell_type": "markdown",
     "metadata": {},
     "source": [
      "* Como se pode  observar  o conteudo  do arquivo '1.fits' \u00e9  uma imagnem de (6218, 4608) pixels"
     ]
    },
    {
     "cell_type": "markdown",
     "metadata": {},
     "source": [
      "Agora  podemos  ver tamb\u00e9m qual \u00e9  conteudo  do arquivo '2.fits'"
     ]
    },
    {
     "cell_type": "code",
     "collapsed": false,
     "input": [
      "hdulist_2 = pyfits.open('2.fits')\n",
      "hdulist_2.info()\n",
      "#para ver o cabecalho e a dimensao o aquivos filho"
     ],
     "language": "python",
     "metadata": {},
     "outputs": []
    },
    {
     "cell_type": "markdown",
     "metadata": {},
     "source": [
      "** Como se pode observar acima o arquivo '2.fits' comtem tabelas. Aqui  0 = \u00c9  o  cabe\u00e7alho do aquivo 2.fits, e os outros (2-14) s\u00e3o  dados."
     ]
    },
    {
     "cell_type": "markdown",
     "metadata": {},
     "source": [
      "Agora podemos  ver  com mais  detalhe  o conte\u00fado dos arquivos  vendo o header"
     ]
    },
    {
     "cell_type": "code",
     "collapsed": false,
     "input": [
      "#header o arquivo 1.fits\n",
      "hdulist_1[0].header"
     ],
     "language": "python",
     "metadata": {},
     "outputs": []
    },
    {
     "cell_type": "code",
     "collapsed": false,
     "input": [
      "#header o arquivo 2.fits\n",
      "hdulist_2[1].header"
     ],
     "language": "python",
     "metadata": {},
     "outputs": []
    },
    {
     "cell_type": "markdown",
     "metadata": {},
     "source": [
      "** Onde ID = o nome  do objeto , RA = acens\u00e3o reta, e DEC = declina\u00e7\u00e3o. Seguidamente podemos ver RA e DEC do OPEN CLUSTER, e de cada objeto"
     ]
    },
    {
     "cell_type": "code",
     "collapsed": false,
     "input": [
      "print 'OPEN_CLUSTER:             ',hdulist_2[0].header['OBJECT']\n",
      "print 'OPEN_CLUSTER_Acencao reta:',hdulist_2[0].header['RA']\n",
      "print 'OPEN_CLUSTER_Declinacao:  ',hdulist_2[0].header['DEC']\n",
      "print 'Frame:     \t\t ',hdulist_2[0].header['FRAME']"
     ],
     "language": "python",
     "metadata": {},
     "outputs": []
    },
    {
     "cell_type": "code",
     "collapsed": false,
     "input": [
      "#para  ver o nome das colunas\n",
      "cols = hdulist_2[1].columns\n",
      "print cols\n",
      "#extraindo dados\n",
      "data1 = hdulist_2[1].data\n",
      "\n",
      "print 'Objecto:     ',data1.ID\n",
      "print 'RA:          ',data1.RA\n",
      "print 'DEC:         ',data1.DEC"
     ],
     "language": "python",
     "metadata": {},
     "outputs": []
    },
    {
     "cell_type": "markdown",
     "metadata": {},
     "source": [
      "Plot de RA(pixels) e DEC(pixels) (arquivo '2.fits')"
     ]
    },
    {
     "cell_type": "code",
     "collapsed": false,
     "input": [
      "x = data1.x_ccd\n",
      "y = data1.y_ccd\n",
      "plt.subplots(figsize=(8,8))\n",
      "plt.plot(x,y,'ro'), plt.xlabel('RA(pixels) '), plt.ylabel('DEC(pixels)')\n",
      "plt.gca().get_xaxis().get_major_formatter().set_useOffset(False)\n",
      "plt.gca().get_yaxis().get_major_formatter().set_useOffset(False)\n",
      "plt.show()"
     ],
     "language": "python",
     "metadata": {},
     "outputs": []
    },
    {
     "cell_type": "markdown",
     "metadata": {},
     "source": [
      "Plot do arquivo '1.fits'. Como se pode  observar a imagem de baixo esta em pixels enquanato a imagem de acima esta em pixels  tamb\u00e9m. Assim que precisamos converter de pixels a RA e DEC."
     ]
    },
    {
     "cell_type": "code",
     "collapsed": false,
     "input": [
      "fig1, ax1 = plt.subplots(1,1, figsize=(8,8))\n",
      "plt.xlabel('RA(pixels) '), plt.ylabel('DEC(pixels)')\n",
      "ax1.imshow(np.log(hdulist_1[1].data)).set_cmap('Greys')"
     ],
     "language": "python",
     "metadata": {},
     "outputs": []
    },
    {
     "cell_type": "markdown",
     "metadata": {},
     "source": [
      "Para  converter de pixels a cordeadas RAe DEC utilizaremos o pocote WCS ( world coordinate systems). Para  mais informa\u00e7\u00e3o  vide o site https://github.com/astropy/astropy-api/blob/master/wcs_axes/wcs_api.md e tamb\u00e9m http://astropy.readthedocs.org/en/latest/wcs/"
     ]
    },
    {
     "cell_type": "code",
     "collapsed": false,
     "input": [
      "from astropy.io import fits\n",
      "from wcsaxes import WCSAxes\n",
      "# Read in LMC image\n",
      "hdulist_1 = fits.open('1.fits')\n",
      "hdulist_2 = fits.open('2.fits')\n",
      "\n",
      "# Initialize figure\n",
      "fig2 = plt.figure(figsize=(8,8))\n",
      "ax2 = WCSAxes(fig2, [0.2, 0.2, 0.8, 0.8], wcs=WCS(hdulist_1[1].header))\n",
      "fig2.add_axes(ax2)\n",
      "# By default, the correct coordinate system will be shown on the x and y\n",
      "# axis, and the labels will be set based on the WCS coordinate system.\n",
      "ax2.imshow(np.log(hdulist_1[1].data), origin='lower').set_cmap('Greys')\n",
      "ax2.plot(hdulist_2[1].data['x_ccd'],hdulist_2[1].data['y_ccd'],'ro')\n",
      "plt.xlabel('RA'), plt.ylabel('DEC')\n",
      "fig2.savefig('example1.png')"
     ],
     "language": "python",
     "metadata": {},
     "outputs": []
    },
    {
     "cell_type": "heading",
     "level": 6,
     "metadata": {},
     "source": [
      "ESPECTROS"
     ]
    },
    {
     "cell_type": "markdown",
     "metadata": {},
     "source": [
      "Como  j\u00e1 foi dito anteriormente  o arquivo 2.fits  cont\u00e9m dados, entre estes dados est\u00e3o espectros mas estos est\u00e3o em pixels e n\u00e3o em comprimento de onda, assim que ser\u00e1  necess\u00e1rio fazer a transforma\u00e7\u00e3o a  comprimento de onda em amstroms (A), para esto  veremos dois  m\u00e9todo: primeiro utilizado somente  o python e alguns pacotes. O segundo m\u00e9todo \u00e9 utilizando WCS ( world coordinate systems)."
     ]
    },
    {
     "cell_type": "markdown",
     "metadata": {},
     "source": [
      "* Primeiro m\u00e9todo: Este \u00e9  um exemplo para o objeto 5 da lista. (Para mais  informa\u00e7\u00e3o de este m\u00e9todo  vide o site http://nbviewer.ipython.org/github/gabraganca/S4/blob/master/notebooks/load-spectrum-FITS.ipynb)"
     ]
    },
    {
     "cell_type": "code",
     "collapsed": false,
     "input": [
      "#impostando a o arquivo .fits\n",
      "\n",
      "origin_spec = pyfits.open('2.fits')\n",
      "\n",
      "# numero do espectro\n",
      "origin_flux = origin_spec[5].data\n",
      "\n",
      "# informacoes do esptro aser covertido\n",
      "origin_spec[5].header[0:11]\n",
      "\n",
      "# do anterior os tres ultimos valores\n",
      "ref_pixel = origin_spec[5].header['CRPIX1']\n",
      "coord_ref_pixel = origin_spec[5].header['CRVAL1']\n",
      "wave_pixel = origin_spec[5].header['CDELT1']\n",
      "\n",
      "#funcao wavelength\n",
      "\n",
      "def get_wstart(ref, wave_ref, wave_per_pixel):\n",
      "     return wave_ref - ((ref-1) * wave_per_pixel)\n",
      "\n",
      "wstart = get_wstart(ref_pixel, coord_ref_pixel, wave_pixel)\n",
      "print 'Starting wavelength = {}'.format(wstart)\n",
      "\n",
      "#funcao para escrever uma variedade de comprimentos de onda para nosso array de fluxo.\n",
      "def get_wavelength(start_wave, wave_per_pixel, size):\n",
      "    return np.array([start_wave + i*wave_per_pixel for i in range(size)])\n",
      "wave_array = get_wavelength(wstart, wave_pixel, len(origin_flux))\n",
      "print wave_array\n",
      "\n",
      "#funcao que envolve as funcoes anteriores:\n",
      "def load_spectrum(fname):\n",
      "    # Load espectro\n",
      "    spec_FITS = pyfits.open(fname)\n",
      "    #Load fluxo\n",
      "    flux = spec_FITS[5].data\n",
      "    \n",
      "    #obtencao de parametros para a determinacao de comprimento de onda a partir do Header\n",
      "    ref_pixel = spec_FITS[5].header['CRPIX1']       #pixel\n",
      "    coord_ref_pixel = spec_FITS[5].header['CRVAL1'] #Wavelength pixel\n",
      "    wave_pixel = spec_FITS[5].header['CDELT1']      #Wavelength* pixel\n",
      "    \n",
      "    #comprimiento de onda inicial\n",
      "    wstart = get_wstart(ref_pixel, coord_ref_pixel, wave_pixel)\n",
      "    \n",
      "    #Obtain array of wavelength\n",
      "    wave = get_wavelength(wstart, wave_pixel, len(flux))\n",
      "    \n",
      "    return np.dstack((wave, flux))[0]\n",
      "full_spec = load_spectrum('2.fits')\n",
      "print full_spec\n",
      "print \"Type is\", type(full_spec)\n",
      "print \"Dimension is\", full_spec.shape\n",
      "plt.subplots(figsize=(8,8))\n",
      "plt.plot(full_spec[:, 0], full_spec[:, 1], 'r-')\n",
      "plt.xlabel('Wavelength (A)')\n",
      "plt.ylabel('Flux')\n",
      "plt.show()"
     ],
     "language": "python",
     "metadata": {},
     "outputs": []
    },
    {
     "cell_type": "markdown",
     "metadata": {},
     "source": [
      "* Segundo m\u00e9todo: Este m\u00e9todo  consiste em utilizar o pacote WCS ( world coordinate systems). vide o site https://github.com/astropy/astropy-api/blob/master/wcs_axes/wcs_api.md"
     ]
    },
    {
     "cell_type": "code",
     "collapsed": false,
     "input": [
      "origin_spec[1].header[0:11]\n",
      "print origin_spec[1].header['NAXIS']\n",
      "fig3, ax3 = plt.subplots(figsize=(8,8))\n",
      "plt.xlabel('Wavelength (A)')\n",
      "plt.ylabel('Flux')\n",
      "def pix2ang(hdu, ax):\n",
      "    wcs = WCS(hdu.header)\n",
      "    index = np.arange(hdu.header['NAXIS1'])\n",
      "    angs = wcs.wcs_pix2world(index[:,np.newaxis], 0)\n",
      "    angs = angs.flatten()\n",
      "    ax.plot(angs, hdu.data)\n",
      "    \n",
      "for i in np.array(xrange(13))+2:\n",
      "    pix2ang(origin_spec[i],ax3)\n",
      "    \n",
      "fig3.savefig('example3.png')\n"
     ],
     "language": "python",
     "metadata": {},
     "outputs": []
    },
    {
     "cell_type": "markdown",
     "metadata": {},
     "source": [
      "* V0table"
     ]
    },
    {
     "cell_type": "markdown",
     "metadata": {},
     "source": [
      "Agora   vamos a salvar  os dados  do aquivo 2.fits em  formato V0tableAgora   vamos a salvar  os dados  do aquivo 2.fits em  formato V0table. (vide o site: https://github.com/astropy/astropy/blob/master/docs/io/votable/index.rst, https://github.com/astropy/astropy/blob/master/docs/io/votable/index.rst e https://astropy.readthedocs.org/en/v0.3/io/votable/index.html)"
     ]
    },
    {
     "cell_type": "code",
     "collapsed": false,
     "input": [
      "from astropy.io.votable.tree import VOTableFile, Resource, Table, Field\n",
      "hdulist_2 = pyfits.open('2.fits')\n",
      "myData = hdulist_2[1].data\n",
      "\n",
      "nRows = len(myData)\n",
      "nCols = len(myData[0])\n",
      "\n",
      "idd = myData.ID\n",
      "ra = myData.RA\n",
      "dec = myData.DEC\n",
      "\n",
      "# Create a new VOTable file...\n",
      "votable = VOTableFile()\n",
      "\n",
      "# \n",
      "resource = Resource()\n",
      "votable.resources.append(resource)\n",
      "\n",
      "# Define some fields\n",
      "table = Table(votable)\n",
      "resource.tables.append(table)\n",
      "\n",
      "table.fields.extend([\n",
      "        Field(votable, name=\"ID\", datatype=\"int\"),\n",
      "        Field(votable, name=\"RA\", datatype=\"double\", unit=\"deg\" ),\n",
      "        Field(votable, name=\"DEC\", datatype=\"double\", unit=\"deg\")])\n",
      "\n",
      "# Now, use those field definitions to create the numpy record arrays, with\n",
      "# the given number of rows\n",
      "table.create_arrays(nRows)\n",
      "\n",
      "# \n",
      "print 'saida_table'\n",
      "for i in range(nRows):\n",
      "    table.array[i] = (idd[i], ra[i], dec[i])\n",
      "    print 'objeto, RA, DEC =',table.array[i]\n",
      "\n",
      "# Now write the whole thing to a file.\n",
      "# Note, we have to use the top-level votable file object\n",
      "votable.to_xml(\"VOtable.xml\")\n"
     ],
     "language": "python",
     "metadata": {},
     "outputs": []
    },
    {
     "cell_type": "markdown",
     "metadata": {},
     "source": [
      "* A saida deste programa tem uma exten\u00e7\u00e3o '.xml'"
     ]
    },
    {
     "cell_type": "heading",
     "level": 6,
     "metadata": {},
     "source": [
      "Bibliografia"
     ]
    },
    {
     "cell_type": "markdown",
     "metadata": {},
     "source": [
      "https://pythonhosted.org/pyfits/users_guide/users_tutorial.html \\\\\n",
      "https://github.com/astropy/astropy-api/blob/master/wcs_axes/wcs_api.md \\\\\n",
      "https://github.com/astropy/astropy/blob/master/docs/io/votable/index.rst \\\\\n",
      "https://github.com/astropy/astropy-api/blob/master/wcs_axes/wcs_api.md \\\\\n",
      "http://astropy.readthedocs.org/en/latest/wcs/"
     ]
    }
   ],
   "metadata": {}
  }
 ]
}
