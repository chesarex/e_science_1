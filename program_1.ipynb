{
 "metadata": {
  "name": "",
  "signature": "sha256:f39276bc8edd4af8d7637128f2361ffb28e14fb6b6ec388cab6217bee13f1f63"
 },
 "nbformat": 3,
 "nbformat_minor": 0,
 "worksheets": [
  {
   "cells": [
    {
     "cell_type": "heading",
     "level": 1,
     "metadata": {},
     "source": [
      "Practica 3.1"
     ]
    },
    {
     "cell_type": "raw",
     "metadata": {},
     "source": [
      "Esta  pratica  consiste em  realizar  uma vers\u00e3o funcional  da pratica 2. al\u00e9m de isso  cosisite na  cria\u00e7\u00e3o de um execut\u00e1vel"
     ]
    },
    {
     "cell_type": "code",
     "collapsed": false,
     "input": [
      "%matplotlib inline\n",
      "import pyfits\n",
      "from astropy.io import fits\n",
      "import matplotlib\n",
      "import matplotlib.pyplot as plt\n",
      "import numpy as np\n",
      "from astropy.wcs import WCS\n",
      "from wcsaxes import WCSAxes"
     ],
     "language": "python",
     "metadata": {},
     "outputs": []
    },
    {
     "cell_type": "markdown",
     "metadata": {},
     "source": [
      "O programa ira solicitar o nome dos arquivos .fits(imagen e  espectro). tem que digitar o nome entre aspas"
     ]
    },
    {
     "cell_type": "code",
     "collapsed": false,
     "input": [
      "name_figure = input('Name figure (''name.fits''): ')\n",
      "name_spectra = input('Name spectra (''name.fits''): ')"
     ],
     "language": "python",
     "metadata": {},
     "outputs": []
    },
    {
     "cell_type": "markdown",
     "metadata": {},
     "source": [
      "programa  de  realizara a transfoma\u00e7\u00e3o  de  cordenadas."
     ]
    },
    {
     "cell_type": "code",
     "collapsed": false,
     "input": [
      "hdulist_1 = fits.open(name_figure)\n",
      "hdulist_2 = fits.open(name_spectra)\n",
      "# Initialize figure\n",
      "fig2 = plt.figure(figsize = (10,10))\n",
      "ax2 = WCSAxes(fig2, [0.1, 0.1, 0.8, 0.8], wcs=WCS(hdulist_1[1].header))\n",
      "fig2.add_axes(ax2)\n",
      "# By default, the correct coordinate system will be shown on the x and y\n",
      "# axis, and the labels will be set based on the WCS coordinate system.\n",
      "ax2.imshow(np.log(hdulist_1[1].data), origin='lower').set_cmap('Greys')\n",
      "plt.xlabel('RA'), plt.ylabel('DEC')\n",
      "ax2.plot(hdulist_2[1].data['x_ccd'],hdulist_2[1].data['y_ccd'],'or')\n",
      "# Save image\n",
      "fig2.savefig('imagen.png')"
     ],
     "language": "python",
     "metadata": {},
     "outputs": []
    },
    {
     "cell_type": "markdown",
     "metadata": {},
     "source": [
      "Agora, finalmente  vamos a criar um execut\u00e1vel, para isso temos que  digitar  #!/usr/bin/python na  primeira fila do  progrma, e depo\u00eds digitamos  na terminal chmod 777 ejemploPython.py,  e j\u00e1 podemos executar o programa  digitando ./ejemploPython.py"
     ]
    }
   ],
   "metadata": {}
  }
 ]
}
